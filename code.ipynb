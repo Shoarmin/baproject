{
 "cells": [
  {
   "cell_type": "code",
   "execution_count": 30,
   "metadata": {
    "tags": [
     "outputPrepend"
    ]
   },
   "outputs": [
    {
     "output_type": "stream",
     "name": "stdout",
     "text": "School  Class  Child  Sex   Age  Wave  Day       Date  Participated    Steps  Minutes_MVPA  Imputed\n0          22     52    902    1  13.0     1    2  29-1-2016           1.0  15921.0         124.0  imputed\n1          22     52    902    1  13.0     1    1  28-1-2016           1.0   3426.0           0.0  imputed\n2          22     52    902    1  13.0     1    3  30-1-2016           1.0  12311.0         237.0  imputed\n3          22     52    902    1  13.0     2    3   2-4-2016           1.0  23583.0          17.0  imputed\n4          22     52    902    1  13.0     2    2   1-4-2016           1.0   1000.0           0.0  imputed\n...       ...    ...    ...  ...   ...   ...  ...        ...           ...      ...           ...      ...\n26461      59    307   6131    0  16.0     7    3  20-5-2018           1.0  17586.0          34.0  imputed\n26462      59    307   6131    0  16.0     7    2  19-5-2018           1.0   8891.0          30.0  imputed\n26463      59    307   6133    0  15.0     7    3  20-5-2018           1.0  14679.0          41.0  imputed\n26464      59    307   6133    0  15.0     7    1  18-5-2018           1.0   1187.0           9.0  imputed\n26465      59    307   6133    0  15.0     7    2  19-5-2018           1.0   8151.0           0.0  imputed\n\n[26466 rows x 12 columns]\n"
    }
   ],
   "source": [
    "import numpy as np\n",
    "import pandas as pd\n",
    "import os\n",
    "pd.options.display.max_rows = 10\n",
    "pd.options.display.width = 200\n",
    "np.set_printoptions(precision = 4, suppress = True)\n",
    "\n",
    "data = pd.read_csv(\"C:/Users/Armin/Documents/VU/thesis/original/02_MyMovez/5. Fitbit data/Fitbit_W17_cleaned_imputation.csv\", sep= ';') \n",
    "print(data)"
   ]
  }
 ],
 "metadata": {
  "language_info": {
   "codemirror_mode": {
    "name": "ipython",
    "version": 3
   },
   "file_extension": ".py",
   "mimetype": "text/x-python",
   "name": "python",
   "nbconvert_exporter": "python",
   "pygments_lexer": "ipython3",
   "version": "3.7.3-final"
  },
  "orig_nbformat": 2,
  "kernelspec": {
   "name": "python37364bitbaseconda4196c42da9254427a19d4f6d7688b6d0",
   "display_name": "Python 3.7.3 64-bit ('base': conda)"
  }
 },
 "nbformat": 4,
 "nbformat_minor": 2
}